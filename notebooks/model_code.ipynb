{
 "cells": [
  {
   "cell_type": "code",
   "execution_count": 1,
   "id": "74f51380",
   "metadata": {},
   "outputs": [],
   "source": [
    "#Import pandas and read the dataset\n",
    "import pandas as pd\n",
    "col_names = ['ID', 'Limit_Bal', 'Gender', 'Education_lvl', 'Mar_status', 'Age', 'Pay_Level', 'Pay_Aug', 'Pay_July', 'Pay_June',\n",
    "            'Pay_May', 'Pay_April', 'Bill_amt_Sept', 'Bill_amt_Aug', 'Bill_amt_July', 'Bill_amt_June',\n",
    "             'Bill_amt_May', 'Bill_amt_April', 'Pay_amt_Sept', 'Pay_amt_Aug', 'Pay_amt_July', 'Pay_amt_June', 'Pay_amt_May',\n",
    "            'Pay_amt_April', 'Default_status']\n",
    "\n",
    "data = pd.read_csv('/home/nkiru/Documents/default_of_credit_card_clients.csv', names = col_names, header = 0, index_col = 'ID')\n",
    "\n"
   ]
  },
  {
   "cell_type": "code",
   "execution_count": 2,
   "id": "f43e9a49",
   "metadata": {},
   "outputs": [],
   "source": [
    "#Define a wrangle function\n",
    "import numpy as np\n",
    "def wrangle(X):\n",
    "    X = X.copy()\n",
    "    #Change the category name to match what is expected\n",
    "    X['Mar_status'] = X['Mar_status'].map({0: 'others', 1:'married', 2: 'single', 3: 'others'}) \n",
    "    X['Education_lvl'] = X['Education_lvl'].map({1: 'graduate school', 2:'university', 3: 'high school',\n",
    "                                                  4: 'others', 0:'others', 6:'others'})\n",
    "    \n",
    "    #Create new features from the Amount of bill statement from September to April\n",
    "    bill_cols = ['Bill_amt_Sept', 'Bill_amt_Aug', 'Bill_amt_July', 'Bill_amt_June', \n",
    "                 'Bill_amt_June', 'Bill_amt_May', 'Bill_amt_April']\n",
    "    pay_cols = ['Pay_amt_Sept', 'Pay_amt_Aug', 'Pay_amt_July', 'Pay_amt_June',\n",
    "                'Pay_amt_May', 'Pay_amt_April']\n",
    "    \n",
    "    X['Total_bill'] = X[bill_cols].sum(axis = 1)\n",
    "    X['Total_paid'] = X[pay_cols].sum(axis = 1)\n",
    "    \n",
    "    #Let's find difference betweenn what a customer has spent and what they have paid\n",
    "\n",
    "    X['Bal'] = (X['Limit_Bal'] - X['Total_paid']) - (X['Limit_Bal'] - X['Total_bill'])\n",
    "    \n",
    "    #drop bill_cols and pay_cols to avoid data leakage\n",
    "    X = X.drop(columns = bill_cols)\n",
    "    X = X.drop(columns = pay_cols)\n",
    "\n",
    "    \n",
    "    return X\n",
    "#aply thr wrangle function on the dataset\n",
    "df = wrangle(data)"
   ]
  },
  {
   "cell_type": "code",
   "execution_count": 3,
   "id": "7a51ff70",
   "metadata": {},
   "outputs": [
    {
     "name": "stdout",
     "output_type": "stream",
     "text": [
      "X_train shape: (24000, 6) X_test shape: (6000, 6) y_train shape: (24000,) y_test: (6000,)\n"
     ]
    }
   ],
   "source": [
    "target = 'Default_status'\n",
    "features = ['Limit_Bal', 'Total_bill', 'Total_paid', 'Pay_Level','Age', 'Education_lvl']\n",
    "X = df[features]\n",
    "y = df[target]\n",
    "#import train_test_split\n",
    "from sklearn.model_selection import train_test_split\n",
    "X_train, X_test, y_train, y_test = train_test_split(X, y, test_size=0.20, random_state = 42)\n",
    "print('X_train shape:', X_train.shape, 'X_test shape:', X_test.shape, 'y_train shape:', y_train.shape, 'y_test:', y_test.shape)"
   ]
  },
  {
   "cell_type": "code",
   "execution_count": null,
   "id": "378effcd",
   "metadata": {},
   "outputs": [
    {
     "name": "stderr",
     "output_type": "stream",
     "text": [
      "/home/nkiru/anaconda3/lib/python3.8/site-packages/xgboost/sklearn.py:1146: UserWarning: The use of label encoder in XGBClassifier is deprecated and will be removed in a future release. To remove this warning, do the following: 1) Pass option use_label_encoder=False when constructing XGBClassifier object; and 2) Encode your labels (y) as integers starting with 0, i.e. 0, 1, 2, ..., [num_class - 1].\n",
      "  warnings.warn(label_encoder_deprecation_msg, UserWarning)\n"
     ]
    },
    {
     "name": "stdout",
     "output_type": "stream",
     "text": [
      "[20:12:21] WARNING: ../src/learner.cc:1095: Starting in XGBoost 1.3.0, the default evaluation metric used with the objective 'binary:logistic' was changed from 'error' to 'logloss'. Explicitly set eval_metric if you'd like to restore the old behavior.\n"
     ]
    }
   ],
   "source": [
    "from scipy.stats import randint, uniform\n",
    "from sklearn.pipeline import make_pipeline\n",
    "from category_encoders import OrdinalEncoder\n",
    "from sklearn.impute import SimpleImputer\n",
    "from xgboost import XGBClassifier\n",
    "\n",
    "#from sklearn.model_selection import RandomizedSearchCV\n",
    "\n",
    "best_xgb = make_pipeline(\n",
    "    OrdinalEncoder(),\n",
    "    SimpleImputer(strategy = 'mean'),\n",
    "    XGBClassifier(\n",
    "        learning_rate = 0.01,\n",
    "        max_depth = None,\n",
    "        n_estimators = 512,\n",
    "        scale_pos_weight = 1,\n",
    "        random_state = 42,\n",
    "        n_jobs = -1)\n",
    ")\n",
    "\n",
    "best_xgb.fit(X_train, y_train);"
   ]
  },
  {
   "cell_type": "code",
   "execution_count": null,
   "id": "a2dd2f66",
   "metadata": {},
   "outputs": [],
   "source": [
    "def predict(limit_bal, pay_level, total_bill, total_paid,  education_lvl):\n",
    "    df = pd.DataFrame(\n",
    "        columns  = ['Limit_Bal', 'Pay_Level','Age', 'Total_bill', 'Total_paid',  'Education_lvl'],\n",
    "        data = [[limit_bal, pay_level, age, total_bill, total_paid,  education_lvl]]\n",
    "    )\n",
    "\n",
    "    y_pred = best_xgb.predict(df)[0]\n",
    "    return f'The model predicted thet the cutomer has {y_pred:} default'\n"
   ]
  },
  {
   "cell_type": "code",
   "execution_count": null,
   "id": "d92b6793",
   "metadata": {},
   "outputs": [],
   "source": [
    "from joblib import dump\n",
    "dump(best_xgb, 'best_xgb.joblib', compress=True)"
   ]
  },
  {
   "cell_type": "markdown",
   "id": "cad2c72c",
   "metadata": {},
   "source": [
    "import joblib\n",
    "import sklearn\n",
    "import category_encoders as ce\n",
    "import xgboost\n",
    "print(f'joblib=={joblib.__version__}')\n",
    "print(f'scikit-learn=={sklearn.__version__}')\n",
    "print(f'category_encoders=={ce.__version__}')\n",
    "print(f'xgboost=={xgboost.__version__}')"
   ]
  },
  {
   "cell_type": "code",
   "execution_count": null,
   "id": "a967d389",
   "metadata": {},
   "outputs": [],
   "source": []
  }
 ],
 "metadata": {
  "kernelspec": {
   "display_name": "Python 3",
   "language": "python",
   "name": "python3"
  },
  "language_info": {
   "codemirror_mode": {
    "name": "ipython",
    "version": 3
   },
   "file_extension": ".py",
   "mimetype": "text/x-python",
   "name": "python",
   "nbconvert_exporter": "python",
   "pygments_lexer": "ipython3",
   "version": "3.8.8"
  }
 },
 "nbformat": 4,
 "nbformat_minor": 5
}
